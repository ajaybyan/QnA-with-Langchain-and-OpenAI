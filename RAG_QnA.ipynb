{
 "cells": [
  {
   "cell_type": "markdown",
   "id": "1772a96b-9bc3-497b-8888-8b20f0638767",
   "metadata": {},
   "source": [
    "## Question and Answering with Knowledge Base(Retrieval Augmented Generation) and LangChain"
   ]
  },
  {
   "cell_type": "code",
   "execution_count": null,
   "id": "3cae0b92-6b89-4226-acbd-f244ce871e06",
   "metadata": {},
   "outputs": [],
   "source": []
  },
  {
   "cell_type": "code",
   "execution_count": 1,
   "id": "77f3c7ab-4a14-417e-8a21-32f4749d9577",
   "metadata": {},
   "outputs": [],
   "source": [
    "import os\n",
    "import openai\n",
    "import sys\n",
    "#sys.path.append('../..')\n",
    "\n",
    "from dotenv import load_dotenv, find_dotenv\n",
    "_ = load_dotenv(find_dotenv()) # read local .env file\n",
    "\n",
    "openai.api_key  = os.environ['OPENAI_API_KEY']"
   ]
  },
  {
   "cell_type": "code",
   "execution_count": null,
   "id": "5ec370e6-f30e-4ba9-a9d5-ab9f8afd0ace",
   "metadata": {},
   "outputs": [],
   "source": []
  },
  {
   "cell_type": "markdown",
   "id": "795a71f3-8385-4e99-bd83-e03664ab0adc",
   "metadata": {},
   "source": [
    "## Basic use of LangChain"
   ]
  },
  {
   "cell_type": "code",
   "execution_count": 30,
   "id": "479152b9-d690-4f42-bee4-af135c45a8f8",
   "metadata": {},
   "outputs": [],
   "source": [
    "from langchain.chains import LLMChain\n",
    "from langchain.llms import OpenAI\n",
    "from langchain.prompts import PromptTemplate"
   ]
  },
  {
   "cell_type": "code",
   "execution_count": 33,
   "id": "c0aa5ffb-55b3-496e-929c-ab0e641a20b1",
   "metadata": {},
   "outputs": [],
   "source": [
    "llm = OpenAI(model= 'text-davinci-003',\n",
    "            temperature=0.8,\n",
    "            max_tokens = 256)"
   ]
  },
  {
   "cell_type": "code",
   "execution_count": 34,
   "id": "d2a6bf9e-29cf-46b2-b31c-a880464a48c4",
   "metadata": {},
   "outputs": [],
   "source": [
    "prompt = PromptTemplate(\n",
    "    input_variables = [\"product\"],\n",
    "    template = \"What is a good name for a company that makes {product}?\",\n",
    ")\n",
    "\n",
    "llm_chain = LLMChain(llm = llm,\n",
    "                    prompt = prompt)"
   ]
  },
  {
   "cell_type": "code",
   "execution_count": 35,
   "id": "2f8eef30-fd5e-4d1c-9c2e-444c4bb2b362",
   "metadata": {},
   "outputs": [
    {
     "name": "stdout",
     "output_type": "stream",
     "text": [
      "\n",
      "\n",
      "SmartBrain Technologies\n"
     ]
    }
   ],
   "source": [
    "print(llm_chain.run({'product': 'AI applications'}))"
   ]
  },
  {
   "cell_type": "code",
   "execution_count": null,
   "id": "176245f3-065c-4e84-ac8f-ec892dfc7b8a",
   "metadata": {},
   "outputs": [],
   "source": []
  },
  {
   "cell_type": "markdown",
   "id": "96e02598-078d-4f12-a315-0a8d351ea6ea",
   "metadata": {},
   "source": [
    "## Loading Document"
   ]
  },
  {
   "cell_type": "code",
   "execution_count": 2,
   "id": "04faf8c1-bb4a-4454-a982-fd6bb9808a9c",
   "metadata": {},
   "outputs": [],
   "source": [
    "from langchain.document_loaders import PyPDFLoader\n",
    "\n",
    "loader = PyPDFLoader(\"docs/Northwind_Health_Plus_Benefits_Details.pdf\")\n",
    "pages = loader.load()"
   ]
  },
  {
   "cell_type": "markdown",
   "id": "a209904a-4226-42a7-a518-b00d1629b420",
   "metadata": {},
   "source": [
    "- Each page is extracted as a single document.\n",
    "- A Document contains text(page_content) and metadata"
   ]
  },
  {
   "cell_type": "code",
   "execution_count": 3,
   "id": "dff01cff-b71b-4492-8cbe-19037c2cf392",
   "metadata": {},
   "outputs": [
    {
     "data": {
      "text/plain": [
       "109"
      ]
     },
     "execution_count": 3,
     "metadata": {},
     "output_type": "execute_result"
    }
   ],
   "source": [
    "# number of pages in the pdf\n",
    "len(pages)"
   ]
  },
  {
   "cell_type": "code",
   "execution_count": 4,
   "id": "7da21af7-4095-4abb-8f9e-cc77cdadf55a",
   "metadata": {},
   "outputs": [
    {
     "data": {
      "text/plain": [
       "Document(page_content='This document contains information generated using a language model (Azure OpenAI ). The \\ninformation contained in this document is only for demonstration purposes and does not \\nreflect the opinions or beliefs of Microsoft. Microsoft makes no representations or \\nwarranties of any kind, express or implied, about the completeness, accuracy, reliability, \\nsuitability or availability with respect to the information contained in this document.  \\nAll rights reserved to Microsoft  \\n  ', metadata={'source': 'docs/Northwind_Health_Plus_Benefits_Details.pdf', 'page': 1})"
      ]
     },
     "execution_count": 4,
     "metadata": {},
     "output_type": "execute_result"
    }
   ],
   "source": [
    "# page content\n",
    "pages[1]"
   ]
  },
  {
   "cell_type": "code",
   "execution_count": null,
   "id": "a846a2b8-615e-4ee0-aede-3da714c374e2",
   "metadata": {},
   "outputs": [],
   "source": []
  },
  {
   "cell_type": "markdown",
   "id": "f368e2aa-eff3-4c3f-bd03-5dd83d382f63",
   "metadata": {},
   "source": [
    "## Document Splitting"
   ]
  },
  {
   "cell_type": "code",
   "execution_count": 5,
   "id": "11b3a4ff-7d13-43eb-b90a-ee7208c34ac9",
   "metadata": {},
   "outputs": [],
   "source": [
    "from langchain.text_splitter import RecursiveCharacterTextSplitter, CharacterTextSplitter\n",
    "from langchain.text_splitter import TokenTextSplitter"
   ]
  },
  {
   "cell_type": "code",
   "execution_count": 6,
   "id": "c24ee8b6-20d3-4b52-a42e-64351f157fbe",
   "metadata": {},
   "outputs": [],
   "source": [
    "chunk_size = 500\n",
    "chunk_overlap = 50"
   ]
  },
  {
   "cell_type": "code",
   "execution_count": 7,
   "id": "18d3784c-6d15-42cb-b5d6-79569f60f07f",
   "metadata": {},
   "outputs": [],
   "source": [
    "#text_splitter = RecursiveCharacterTextSplitter(\n",
    "#    chunk_size=chunk_size,\n",
    "#    chunk_overlap=chunk_overlap,\n",
    "#    separators=[\"\\n\\n\", \"\\n\", \" \", \"\"]\n",
    "#)"
   ]
  },
  {
   "cell_type": "code",
   "execution_count": 6,
   "id": "a52ffe05-9624-443f-9ea1-cef92bf75aef",
   "metadata": {},
   "outputs": [],
   "source": [
    "text_splitter = RecursiveCharacterTextSplitter.from_tiktoken_encoder(\n",
    "    encoding_name=\"p50k_base\",\n",
    "    chunk_size = chunk_size,\n",
    "    chunk_overlap = chunk_overlap,\n",
    "    separators=[\"\\n\\n\", \"\\n\", \" \", \"\"]\n",
    "                \n",
    ")"
   ]
  },
  {
   "cell_type": "code",
   "execution_count": 7,
   "id": "ef6d3527-672a-4dee-bd9f-0be5b1b8cdb3",
   "metadata": {},
   "outputs": [],
   "source": [
    "splits = text_splitter.split_documents(pages)"
   ]
  },
  {
   "cell_type": "code",
   "execution_count": 8,
   "id": "c30be900-b656-4074-8fb3-a489b0652643",
   "metadata": {},
   "outputs": [
    {
     "data": {
      "text/plain": [
       "208"
      ]
     },
     "execution_count": 8,
     "metadata": {},
     "output_type": "execute_result"
    }
   ],
   "source": [
    "len(splits)"
   ]
  },
  {
   "cell_type": "code",
   "execution_count": 9,
   "id": "be4be163-1429-4ed7-a1ba-f031f41be6c2",
   "metadata": {},
   "outputs": [
    {
     "data": {
      "text/plain": [
       "Document(page_content='Tips:  \\n• Make sure to double -check if a provider is in -network or out -of-network before you \\nreceive care. This will help you av oid any surprise costs.  \\n• Take advantage of preventive care services when they are offered. These services are \\ncovered at no cost to you and can help you stay healthy.  \\n• Be aware of your plan’s formulary, which is a list of medications that are covered by your \\nplan. If you are p rescribed a medication that is not on the formulary, you may have to pay \\nmore out -of-pocket.  \\n• If you have any questions about your costs, you can contact Northwind Health for more \\ninformation.  \\nHOW PROVIDERS AFFECT YOUR COSTS  \\nIn-Network Providers  \\nHOW PROV IDERS AFFECT YOUR COSTS  \\nChoosing the right provider is an important part of getting the most value out of your health \\ninsurance plan. With Northwind Health Plus, you have access to an extensive network of in -\\nnetwork providers. Working with these providers is an essential part of getting the most \\nvalue out of your plan.  \\nIn-Network Providers  \\nWhen choosing an in -network provider for your health care needs, make sure to check with \\nNorthwind Health Plus to ensure that the provider is in -network. This is importan t because \\nin-network providers charge lower rates than out -of-network providers. Northwind Health \\nPlus offers a wide range of in -network providers, including primary care physicians, \\nspecialists, hospitals, and pharmacies. This lets you choose a provider t hat is most \\nconvenient for you and your family.  \\nIt is important to note that in -network providers may not always be available in every area. \\nThe Northwind Health Plus website offers a searchable directory of all in -network \\nproviders in your area. This dire ctory is regularly updated, so you can be sure that you are \\nchoosing from in -network providers that are available in your area.  \\nCost Savings  \\nUsing an in -network provider can help you save money on health care services. In -network \\nproviders have agreed', metadata={'source': 'docs/Northwind_Health_Plus_Benefits_Details.pdf', 'page': 3})"
      ]
     },
     "execution_count": 9,
     "metadata": {},
     "output_type": "execute_result"
    }
   ],
   "source": [
    "splits[4]"
   ]
  },
  {
   "cell_type": "code",
   "execution_count": 10,
   "id": "f3cd82d5-9ac5-4980-bb15-b4866951b694",
   "metadata": {},
   "outputs": [],
   "source": [
    "# update source metadata to include page numbers\n",
    "\n",
    "for split in splits:\n",
    "    new_metadata = {\"source\":f'{split.metadata[\"source\"].split(\"/\")[1]}/page={split.metadata[\"page\"]}',\n",
    "                   \"page\": split.metadata[\"page\"]}\n",
    "    split.metadata = new_metadata"
   ]
  },
  {
   "cell_type": "code",
   "execution_count": 11,
   "id": "8dd78937-4207-4ad9-a79d-22bef5eb2104",
   "metadata": {},
   "outputs": [
    {
     "data": {
      "text/plain": [
       "{'source': 'Northwind_Health_Plus_Benefits_Details.pdf/page=0', 'page': 0}"
      ]
     },
     "execution_count": 11,
     "metadata": {},
     "output_type": "execute_result"
    }
   ],
   "source": [
    "splits[0].metadata"
   ]
  },
  {
   "cell_type": "code",
   "execution_count": null,
   "id": "35c6bb37-0f35-4c58-8ffe-c0a847806159",
   "metadata": {},
   "outputs": [],
   "source": []
  },
  {
   "cell_type": "markdown",
   "id": "694245e4-2403-4a78-8a9a-e215c3a809e9",
   "metadata": {},
   "source": [
    "## VectoreStore and Embeddings"
   ]
  },
  {
   "cell_type": "code",
   "execution_count": 12,
   "id": "10c8c6e0-33a7-4264-bae7-349b5b634871",
   "metadata": {},
   "outputs": [],
   "source": [
    "from langchain.vectorstores import Chroma\n",
    "from langchain.embeddings.openai import OpenAIEmbeddings"
   ]
  },
  {
   "cell_type": "code",
   "execution_count": 14,
   "id": "d8e81efd-3003-411a-9c19-24b8e064549f",
   "metadata": {},
   "outputs": [],
   "source": [
    "embedding = OpenAIEmbeddings(model = \"text-embedding-ada-002\")"
   ]
  },
  {
   "cell_type": "code",
   "execution_count": 16,
   "id": "1534e992-a2c6-47fa-8d48-32997cb3fff4",
   "metadata": {},
   "outputs": [],
   "source": [
    "# path to store the cectordb\n",
    "db_path = \"docs/chroma\""
   ]
  },
  {
   "cell_type": "code",
   "execution_count": 23,
   "id": "0dcc25f1-3058-489e-890f-1fd4ffc8dc7d",
   "metadata": {},
   "outputs": [],
   "source": [
    "# remove existing vectordb if exists\n",
    "\n",
    "import shutil\n",
    "if os.path.exists(db_path):\n",
    "    shutil.rmtree(db_path)"
   ]
  },
  {
   "cell_type": "code",
   "execution_count": 24,
   "id": "8679083e-eb35-4d16-bae6-f7d319535ea5",
   "metadata": {},
   "outputs": [],
   "source": [
    "# create vectordb\n",
    "\n",
    "vectordb = Chroma.from_documents(\n",
    "    documents = splits,\n",
    "    embedding = embedding,\n",
    "    persist_directory = db_path\n",
    ")"
   ]
  },
  {
   "cell_type": "code",
   "execution_count": 17,
   "id": "6527ed92-368d-4caf-97da-be0ee1ce07e7",
   "metadata": {},
   "outputs": [
    {
     "name": "stdout",
     "output_type": "stream",
     "text": [
      "208\n"
     ]
    }
   ],
   "source": [
    "# load vectordb from the persist directory\n",
    "\n",
    "vectordb = Chroma(persist_directory = db_path, \n",
    "                  embedding_function = embedding)\n",
    "\n",
    "print(vectordb._collection.count())"
   ]
  },
  {
   "cell_type": "code",
   "execution_count": null,
   "id": "631fa710-9a59-4763-9887-e84b90847480",
   "metadata": {},
   "outputs": [],
   "source": []
  },
  {
   "cell_type": "markdown",
   "id": "db7c2365-d878-495e-8589-37cae03aa615",
   "metadata": {},
   "source": [
    "## Retreival"
   ]
  },
  {
   "cell_type": "markdown",
   "id": "322046e7-9445-4da4-bf95-ab4e82c750cd",
   "metadata": {},
   "source": [
    "#### Search Types\n",
    "- Similarity Search\n",
    "- Max Marginal Relevance Search"
   ]
  },
  {
   "cell_type": "code",
   "execution_count": 18,
   "id": "f3c74c97-8641-45a3-b84b-72a450a75b8e",
   "metadata": {},
   "outputs": [],
   "source": [
    "query = \"What does Northwind Health Plus offer?\""
   ]
  },
  {
   "cell_type": "code",
   "execution_count": 27,
   "id": "c22c4125-5d5f-49a7-ad61-71fed814a9a9",
   "metadata": {},
   "outputs": [
    {
     "name": "stdout",
     "output_type": "stream",
     "text": [
      "page_content='Northwind Health Plus is a comprehensive health plan that offers coverage for medical, \\nvision, and dental services. It also provides  coverage for prescription drugs, mental health \\nand substance abuse services, and preventive care. You can choose from a variety of in -\\nnetwork providers, including primary care physicians, specialists, hospitals, and \\npharmacies. Emergency services are also  covered, both in -network and out -of-network.  \\nCo-pays, deductibles, and out -of-pocket maximums may apply to your plan. Your plan may \\nalso include separate deductibles for different services, such as prescription drugs and \\nhospitalization. It is important to know what your plan covers and what the cost -sharing \\nrequirements are. To get more information, please visit the Northwind Health website or \\ncontact them directly.  \\nIt is also important to remember that there may be certain exceptions or limitations in the \\nplan. For instance, some plans may not cover certain types of services, such as cosmetic \\nprocedures, or they may have limits on the number of visits to a provider that are covered. \\nIt is important to read through your plan to understand what is and isn ’t covered.  \\nWhen you are using your Northwind Health Plus plan, there are a few tips to keep in mind. \\nFirst, remember to bring your Northwind Health Plus ID card with you when you go to the \\ndoctor or pharmacy. This will help the provider verify your coverage and proce ss your \\nclaims. Second, if you are prescribed a medication, check to make sure it is covered by your \\nplan. You may be able to save money by using a generic version of the drug or by using a \\nmail -order pharmacy.  \\nFinally, if you are seeing an out -of-network  provider, remember that you may be \\nresponsible for paying more out -of-pocket costs than you would for an in -network provider. \\nMake sure to check with the provider to get an estimate of what your costs will be.  \\nBy understanding the plan and its exceptions  and limitations, and by following these tips, \\nyou can make sure you are getting the most out of your Northwind Health Plus plan.  \\nCOVERED SERVICES  \\nAcupuncture  ' metadata={'page': 16, 'source': 'Northwind_Health_Plus_Benefits_Details.pdf/page=16'}\n",
      "========================================\n",
      "page_content=\"• If your coverage is denied, talk to your doctor about appealing the decision.  \\n• If you are considering a service or medication that is not covered by Northwind Health \\nPlus, ask your doctor about other options that may be available.  \\nPersonal Hea lth Support Programs  \\nCARE MANAGEMENT  \\nNorthwind Health Plus offers a number of personal health support programs to help \\nmembers stay healthy and manage their health care costs. Through this program, members \\ncan access a range of services, programs, and bene fits including:  \\nCase Management: Northwind Health Plus provides a case management program that \\nconnects members with a team of health professionals, depending on the individual’s needs. \\nThese professionals will help assess the member's health situation, d evelop a plan of care, \\ncoordinate care and resources, and provide support and education.  \\nDisease Management: Northwind Health Plus offers disease management programs for \\nmembers with certain chronic conditions. These programs provide members with support, \\ninformation, and resources about their conditions, as well as assistance in managing their \\nhealth care.  \\nWellness Programs: Northwind Health Plus provides wellness programs to help members \\nstay healthy and manage their health care costs. These programs incl ude programs to help \\nmembers quit smoking, manage stress, and improve their overall health and well -being.  \\nExceptions:  \\n•Members must be enrolled in Northwind Health Plus to be eligible for these programs.  \\n•These programs may not be available in all areas.  \\n•Some services may not be covered by Northwind Health Plus.  \\nTips:  \\n•Take advantage of the services and programs offered through Northwind Health Plus.  \\n•Talk to your doctor or other health care provider about your health and any treatments \\nthat may be availa ble. \\n•Take an active role in your health care. Ask questions and be informed about your health \\nand any treatments that may be available.  \\n•Make sure to follow your doctor’s instructions and stay up to date on your health care.  \\n•If you have any questions or concerns about your health, contact Northwind Health Plus \\nfor assistance.  \" metadata={'page': 72, 'source': 'Northwind_Health_Plus_Benefits_Details.pdf/page=72'}\n",
      "========================================\n"
     ]
    }
   ],
   "source": [
    "# similarity search\n",
    "sim_docs = vectordb.similarity_search(query = query, k = 2)\n",
    "\n",
    "for doc in sim_docs:\n",
    "    print(doc)\n",
    "    print(\"========================================\")"
   ]
  },
  {
   "cell_type": "code",
   "execution_count": 28,
   "id": "a9af6e12-2e2f-4832-a806-46eaa1700bc1",
   "metadata": {},
   "outputs": [
    {
     "name": "stdout",
     "output_type": "stream",
     "text": [
      "page_content='Northwind Health Plus is a comprehensive health plan that offers coverage for medical, \\nvision, and dental services. It also provides  coverage for prescription drugs, mental health \\nand substance abuse services, and preventive care. You can choose from a variety of in -\\nnetwork providers, including primary care physicians, specialists, hospitals, and \\npharmacies. Emergency services are also  covered, both in -network and out -of-network.  \\nCo-pays, deductibles, and out -of-pocket maximums may apply to your plan. Your plan may \\nalso include separate deductibles for different services, such as prescription drugs and \\nhospitalization. It is important to know what your plan covers and what the cost -sharing \\nrequirements are. To get more information, please visit the Northwind Health website or \\ncontact them directly.  \\nIt is also important to remember that there may be certain exceptions or limitations in the \\nplan. For instance, some plans may not cover certain types of services, such as cosmetic \\nprocedures, or they may have limits on the number of visits to a provider that are covered. \\nIt is important to read through your plan to understand what is and isn ’t covered.  \\nWhen you are using your Northwind Health Plus plan, there are a few tips to keep in mind. \\nFirst, remember to bring your Northwind Health Plus ID card with you when you go to the \\ndoctor or pharmacy. This will help the provider verify your coverage and proce ss your \\nclaims. Second, if you are prescribed a medication, check to make sure it is covered by your \\nplan. You may be able to save money by using a generic version of the drug or by using a \\nmail -order pharmacy.  \\nFinally, if you are seeing an out -of-network  provider, remember that you may be \\nresponsible for paying more out -of-pocket costs than you would for an in -network provider. \\nMake sure to check with the provider to get an estimate of what your costs will be.  \\nBy understanding the plan and its exceptions  and limitations, and by following these tips, \\nyou can make sure you are getting the most out of your Northwind Health Plus plan.  \\nCOVERED SERVICES  \\nAcupuncture  ' metadata={'page': 16, 'source': 'Northwind_Health_Plus_Benefits_Details.pdf/page=16'}\n",
      "============================================\n",
      "page_content=' instructions and stay up to date on your health care.  \\n•If you have any questions or concerns about your health, contact Northwind Health Plus \\nfor assistance.  ' metadata={'page': 72, 'source': 'Northwind_Health_Plus_Benefits_Details.pdf/page=72'}\n",
      "============================================\n",
      "page_content=' friends, and heal thcare \\nprofessionals.  \\n• Take advantage of resources: Northwind Health Plus offers a variety of resources and \\nprograms to help members manage their chronic conditions.  ' metadata={'page': 73, 'source': 'Northwind_Health_Plus_Benefits_Details.pdf/page=73'}\n",
      "============================================\n"
     ]
    }
   ],
   "source": [
    "# max marginal relevance\n",
    "mmr_docs = vectordb.max_marginal_relevance_search(query = query, k = 3)\n",
    "\n",
    "for doc in mmr_docs:\n",
    "    print(doc)\n",
    "    print(\"============================================\")"
   ]
  },
  {
   "cell_type": "code",
   "execution_count": null,
   "id": "04a027ad-77c1-4f74-9cee-4d2053a3ca48",
   "metadata": {},
   "outputs": [],
   "source": []
  },
  {
   "cell_type": "markdown",
   "id": "1297cf97-413d-4f71-a20e-47d0c28cc098",
   "metadata": {},
   "source": [
    "### Enhancing the Retrieval\n",
    "\n",
    "- Filtering\n",
    "- Self Query Retrieval\n",
    "- Compression"
   ]
  },
  {
   "cell_type": "code",
   "execution_count": 29,
   "id": "8a13c1cc-c17c-4576-8d24-9d6c6e017614",
   "metadata": {},
   "outputs": [
    {
     "name": "stdout",
     "output_type": "stream",
     "text": [
      "page_content='Northwind Health Plus is a comprehensive health plan that offers coverage for medical, \\nvision, and dental services. It also provides  coverage for prescription drugs, mental health \\nand substance abuse services, and preventive care. You can choose from a variety of in -\\nnetwork providers, including primary care physicians, specialists, hospitals, and \\npharmacies. Emergency services are also  covered, both in -network and out -of-network.  \\nCo-pays, deductibles, and out -of-pocket maximums may apply to your plan. Your plan may \\nalso include separate deductibles for different services, such as prescription drugs and \\nhospitalization. It is important to know what your plan covers and what the cost -sharing \\nrequirements are. To get more information, please visit the Northwind Health website or \\ncontact them directly.  \\nIt is also important to remember that there may be certain exceptions or limitations in the \\nplan. For instance, some plans may not cover certain types of services, such as cosmetic \\nprocedures, or they may have limits on the number of visits to a provider that are covered. \\nIt is important to read through your plan to understand what is and isn ’t covered.  \\nWhen you are using your Northwind Health Plus plan, there are a few tips to keep in mind. \\nFirst, remember to bring your Northwind Health Plus ID card with you when you go to the \\ndoctor or pharmacy. This will help the provider verify your coverage and proce ss your \\nclaims. Second, if you are prescribed a medication, check to make sure it is covered by your \\nplan. You may be able to save money by using a generic version of the drug or by using a \\nmail -order pharmacy.  \\nFinally, if you are seeing an out -of-network  provider, remember that you may be \\nresponsible for paying more out -of-pocket costs than you would for an in -network provider. \\nMake sure to check with the provider to get an estimate of what your costs will be.  \\nBy understanding the plan and its exceptions  and limitations, and by following these tips, \\nyou can make sure you are getting the most out of your Northwind Health Plus plan.  \\nCOVERED SERVICES  \\nAcupuncture  ' metadata={'page': 16, 'source': 'Northwind_Health_Plus_Benefits_Details.pdf/page=16'}\n",
      "===========================================\n",
      "page_content=' understanding the plan and its exceptions  and limitations, and by following these tips, \\nyou can make sure you are getting the most out of your Northwind Health Plus plan.  \\nCOVERED SERVICES  \\nAcupuncture  \\nCOVERED SERVICES: Acupuncture  \\nAcupuncture is an ancient form of healing that has been practiced i n China for thousands of \\nyears. It involves the use of very thin needles inserted into specific points in the body to \\nstimulate energy flow and promote physical and emotional balance. Northwind Health Plus \\ncovers acupuncture services, including both in -network and out -of-network acupuncture \\nproviders.  \\nWhen using an in -network acupuncture provider, coverage is provided for up to 12 visits \\nper year. Each visit must be medically necessary and approved by your primary care \\nphysician. All acupuncture services mu st be performed by an appropriately licensed \\nacupuncturist, and acupuncture services are limited to one hour per visit.  ' metadata={'page': 16, 'source': 'Northwind_Health_Plus_Benefits_Details.pdf/page=16'}\n",
      "===========================================\n"
     ]
    }
   ],
   "source": [
    "# retrieval with filter\n",
    "filter_docs = vectordb.similarity_search(query = query, \n",
    "                           k = 2,\n",
    "                           filter={\"page\":16})\n",
    "\n",
    "for doc in filter_docs:\n",
    "    print(doc)\n",
    "    print(\"===========================================\")"
   ]
  },
  {
   "cell_type": "code",
   "execution_count": 8,
   "id": "2188f5b6-900f-42ed-9737-3aed337b5e97",
   "metadata": {},
   "outputs": [],
   "source": [
    "# self query retrieval\n",
    "\n",
    "from langchain.llms import OpenAI\n",
    "from langchain.retrievers.self_query.base import SelfQueryRetriever\n",
    "from langchain.chains.query_constructor.base import AttributeInfo"
   ]
  },
  {
   "cell_type": "code",
   "execution_count": 18,
   "id": "b99302f0-97a4-44d2-9098-c8005d95a899",
   "metadata": {},
   "outputs": [],
   "source": [
    "metadata_field_info = [\n",
    "    AttributeInfo(\n",
    "        name=\"source\",\n",
    "        description=\"The pdf document the text chunk is from, should be have `.pdf` extension\",\n",
    "        type=\"string\",\n",
    "    ),\n",
    "    AttributeInfo(\n",
    "        name=\"page\",\n",
    "        description=\"The page from the pdf\",\n",
    "        type=\"integer\",\n",
    "    )\n",
    "]"
   ]
  },
  {
   "cell_type": "code",
   "execution_count": 24,
   "id": "582d9943-6f13-4057-9b60-59bd76a13e08",
   "metadata": {},
   "outputs": [],
   "source": [
    "llm = OpenAI(model= 'text-davinci-003',\n",
    "            temperature=0,\n",
    "            max_tokens = 256)\n",
    "\n",
    "retriever = SelfQueryRetriever.from_llm(\n",
    "    llm = llm,\n",
    "    vectorstore = vectordb,\n",
    "    document_contents = \"Northwind Health Plan documents\",\n",
    "    metadata_field_info = metadata_field_info,\n",
    "    verbose = True\n",
    ")"
   ]
  },
  {
   "cell_type": "code",
   "execution_count": 25,
   "id": "71aaf7e8-fdc6-4d0c-a295-03b10f7bd805",
   "metadata": {},
   "outputs": [
    {
     "name": "stderr",
     "output_type": "stream",
     "text": [
      "C:\\Users\\ajay.byanjankar\\Anaconda3\\envs\\langchain\\Lib\\site-packages\\langchain\\chains\\llm.py:279: UserWarning: The predict_and_parse method is deprecated, instead pass an output parser directly to LLMChain.\n",
      "  warnings.warn(\n"
     ]
    },
    {
     "name": "stdout",
     "output_type": "stream",
     "text": [
      "query='Northwind Health Plan' filter=Comparison(comparator=<Comparator.EQ: 'eq'>, attribute='page', value=2) limit=None\n"
     ]
    }
   ],
   "source": [
    "query = \"what is mentioned about Northwind Helath Plan in the second page?\"\n",
    "\n",
    "docs = retriever.get_relevant_documents(query)"
   ]
  },
  {
   "cell_type": "code",
   "execution_count": 26,
   "id": "e8888578-7989-41ef-9fc6-2732fefa914b",
   "metadata": {},
   "outputs": [
    {
     "name": "stdout",
     "output_type": "stream",
     "text": [
      "page_content='Summary of Benefits  \\nNorthwind Health Plus  \\nNorthwind Health Plus is a comprehensive plan that provides comprehensive cov erage for \\nmedical, vision, and dental services. This plan also offers prescription drug coverage, mental \\nhealth and substance abuse coverage, and coverage for preventive care services. With \\nNorthwind Health Plus, you can choose from a variety of in -network  providers, including \\nprimary care physicians, specialists, hospitals, and pharmacies. This plan also offers \\ncoverage for emergency services, both in -network and out -of-network.  \\nSUMMARY OF YOUR COSTS  \\nSUMMARY OF YOUR COSTS  \\nAt Northwind Health, we understand  that health care costs can be a burden. That’s why we \\noffer a comprehensive plan that covers the cost of medical, vision, and dental services. With \\nNorthwind Health Plus, you can choose from a variety of in -network providers, including \\nprimary care physic ians, specialists, hospitals, and pharmacies. This plan also offers \\ncoverage for emergency services, both in -network and out -of-network.  \\nYour cost for Northwind Health Plus will depend on your plan type, the services you use, \\nand the providers you visit. You can find more information about cost -sharing \\narrangements on the Northwind Health website.  \\nIn-Network Costs: If you use an in -network provider, your out -of-pocket costs will be lower \\nthan if you use an out -of-network provider. This is because Northwin d Health has \\nnegotiated discounted rates with in -network providers.  \\nOut-of-Network Costs: If you use an out -of-network provider, you may be responsible for \\npaying the full cost of the services you receive. Additionally, you may have to pay a higher \\ndeduct ible and coinsurance.  \\nPrescription Drug Costs: Prescription drug costs are also taken into consideration with \\nNorthwind Health Plus. Your out -of-pocket costs will depend on the tier of the medication \\nyou are prescribed. Generally, brand -name and non -prefe rred generic medications will have \\nhigher out -of-pocket costs than preferred generic and generic medications.  \\nM' metadata={'page': 2, 'source': 'Northwind_Health_Plus_Benefits_Details.pdf/page=2'}\n",
      "========================================\n",
      "page_content=' will depend on the tier of the medication \\nyou are prescribed. Generally, brand -name and non -prefe rred generic medications will have \\nhigher out -of-pocket costs than preferred generic and generic medications.  \\nMental Health and Substance Abuse Coverage: Northwind Health Plus also provides \\ncoverage for mental health and substance abuse services. Generall y, coverage for mental \\nhealth and substance abuse services will be the same as coverage for medical and surgical \\nservices.  \\nPreventive Care Services: Northwind Health Plus also covers preventive care services such \\nas immunizations and screenings. Generally , these services are covered at no cost to you. \\nHowever, you will be responsible for any applicable deductibles and coinsurance.  ' metadata={'page': 2, 'source': 'Northwind_Health_Plus_Benefits_Details.pdf/page=2'}\n",
      "========================================\n"
     ]
    }
   ],
   "source": [
    "for doc in docs:\n",
    "    print(doc)\n",
    "    print(\"========================================\")"
   ]
  },
  {
   "cell_type": "code",
   "execution_count": null,
   "id": "fadd6e87-4dfc-4104-93e4-14645255e4fc",
   "metadata": {},
   "outputs": [],
   "source": []
  },
  {
   "cell_type": "markdown",
   "id": "54801a46-96a9-400d-8d81-de8a20816976",
   "metadata": {},
   "source": [
    "## Question Answering"
   ]
  },
  {
   "cell_type": "markdown",
   "id": "9e1e4bf9-1511-4baa-a841-e8cbb9d373ff",
   "metadata": {},
   "source": [
    "### RetrievalQA Chain"
   ]
  },
  {
   "cell_type": "code",
   "execution_count": 20,
   "id": "825ab1fc-6569-4f20-a53b-0e0dbc22b215",
   "metadata": {},
   "outputs": [],
   "source": [
    "from langchain.chat_models import ChatOpenAI\n",
    "from langchain.chains import RetrievalQA"
   ]
  },
  {
   "cell_type": "code",
   "execution_count": 21,
   "id": "6a4daf78-69a9-41f8-9c92-d1eee36b658f",
   "metadata": {},
   "outputs": [],
   "source": [
    "model = \"gpt-3.5-turbo\"\n",
    "\n",
    "llm = ChatOpenAI(model = model,\n",
    "                temperature = 0)"
   ]
  },
  {
   "cell_type": "code",
   "execution_count": 22,
   "id": "6ddb13e6-715a-4bb1-8d1c-9145397a4fa3",
   "metadata": {},
   "outputs": [],
   "source": [
    "qa_chain = RetrievalQA.from_chain_type(\n",
    "    llm = llm,\n",
    "    retriever = vectordb.as_retriever(search_type = \"similarity\",\n",
    "                                     search_kwargs = {'k':2})\n",
    ")"
   ]
  },
  {
   "cell_type": "code",
   "execution_count": 23,
   "id": "09c1c17c-f3d0-4ed8-8db0-13fc0608fda5",
   "metadata": {},
   "outputs": [
    {
     "name": "stdout",
     "output_type": "stream",
     "text": [
      "Use the following pieces of context to answer the users question. \n",
      "If you don't know the answer, just say that you don't know, don't try to make up an answer.\n",
      "----------------\n",
      "{context}\n"
     ]
    }
   ],
   "source": [
    "# # prompt\n",
    "print(qa_chain.combine_documents_chain.llm_chain.prompt.messages[0].prompt.template)"
   ]
  },
  {
   "cell_type": "code",
   "execution_count": 24,
   "id": "ee8c5e8d-c56a-4bd6-b16e-d17a3a0810e1",
   "metadata": {},
   "outputs": [],
   "source": [
    "from langchain.prompts import PromptTemplate\n",
    "\n",
    "template = \"\"\"Use the following pieces of context to answer the question at the end. If you don't know the answer, \n",
    "            just say that you don't know, don't try to make up an answer. \n",
    "            Keep the answer as concise as possible. Always say \"thanks for asking!\" at the end of the answer. \n",
    "{context}\n",
    "Question: {question}\n",
    "Helpful Answer:\"\"\"\n",
    "\n",
    "QA_CHAIN_PROMPT = PromptTemplate(input_variables=[\"context\", \"question\"],\n",
    "                                 template=template)\n",
    "\n",
    "\n",
    "qa_chain = RetrievalQA.from_chain_type(\n",
    "    llm = llm,\n",
    "    chain_type = 'stuff',\n",
    "    retriever = vectordb.as_retriever(search_type = \"similarity\",\n",
    "                                     search_kwargs = {'k':2},\n",
    "                                     chain_type_kwargs={\"prompt\": QA_CHAIN_PROMPT}\n",
    "                                     )\n",
    ")"
   ]
  },
  {
   "cell_type": "code",
   "execution_count": 32,
   "id": "85bae2d1-7998-4a05-af70-8d0b8db41075",
   "metadata": {},
   "outputs": [],
   "source": [
    "# make query\n",
    "query = \"What are some of the best offers provided by Northwind Health Plus?\"\n",
    "\n",
    "response = qa_chain.run(query)"
   ]
  },
  {
   "cell_type": "code",
   "execution_count": 34,
   "id": "2045dc52-6466-489d-a570-b1be0f27be02",
   "metadata": {},
   "outputs": [
    {
     "name": "stdout",
     "output_type": "stream",
     "text": [
      "Some of the best offers provided by Northwind Health Plus include:\n",
      "\n",
      "1. Personal Health Support Programs: Northwind Health Plus offers various personal health support programs such as case management, disease management, and wellness programs. These programs provide members with support, information, and resources to help them stay healthy and manage their healthcare costs.\n",
      "\n",
      "2. Comprehensive Coverage: Northwind Health Plus offers coverage for medical, vision, and dental services. It also covers prescription drugs, mental health and substance abuse services, and preventive care. Emergency services are covered both in-network and out-of-network.\n",
      "\n",
      "3. Variety of In-Network Providers: Members have the option to choose from a variety of in-network providers, including primary care physicians, specialists, hospitals, and pharmacies. This allows for greater flexibility in accessing healthcare services.\n",
      "\n",
      "4. Co-pays, Deductibles, and Out-of-Pocket Maximums: While there may be cost-sharing requirements, Northwind Health Plus provides information on co-pays, deductibles, and out-of-pocket maximums. Understanding these costs can help members plan and budget for their healthcare expenses.\n",
      "\n",
      "It's important to note that the availability of these offers may vary depending on the area and specific plan. It's recommended to visit the Northwind Health website or contact them directly for more information on the specific offers available to you.\n"
     ]
    }
   ],
   "source": [
    "print(response)"
   ]
  },
  {
   "cell_type": "code",
   "execution_count": null,
   "id": "57740bb9-5d24-4444-87eb-787a3a745662",
   "metadata": {},
   "outputs": [],
   "source": []
  },
  {
   "cell_type": "markdown",
   "id": "6906ed2b-5290-45ca-9ae9-fbf138e8f7e5",
   "metadata": {},
   "source": [
    "### RetrievalQA Chain Types\n",
    "- Stuff\n",
    "- Map Reduce\n",
    "- Refine\n",
    "- Map Rerank"
   ]
  },
  {
   "attachments": {
    "45e98cd4-26be-4903-be13-7ba9082441a2.png": {
     "image/png": "[encoded data removed]"
    }
   },
   "cell_type": "markdown",
   "id": "27b99153-3698-465b-8781-6b3329166bcc",
   "metadata": {},
   "source": [
    "![chain_types.png](attachment:45e98cd4-26be-4903-be13-7ba9082441a2.png)"
   ]
  },
  {
   "cell_type": "code",
   "execution_count": null,
   "id": "8722be31-ce9f-4086-9b13-b26e568c5e6f",
   "metadata": {},
   "outputs": [],
   "source": [
    "qa_chain_mr = RetrievalQA.from_chain_type(\n",
    "    llm,\n",
    "    retriever=vectordb.as_retriever(),\n",
    "    chain_type=\"map_reduce\"\n",
    ")"
   ]
  },
  {
   "cell_type": "code",
   "execution_count": null,
   "id": "d401d8fe-4aa2-406a-9a47-17d2cbddec1c",
   "metadata": {},
   "outputs": [],
   "source": []
  },
  {
   "cell_type": "markdown",
   "id": "e41f95e6-0e18-4cee-b98a-3339d2df2664",
   "metadata": {},
   "source": [
    "### RetrievalQA with Sources"
   ]
  },
  {
   "cell_type": "code",
   "execution_count": 30,
   "id": "287e76d2-ef1b-4432-b923-47a4cc41de79",
   "metadata": {},
   "outputs": [],
   "source": [
    "from langchain.chains import RetrievalQAWithSourcesChain\n",
    "\n",
    "qa_with_sources = RetrievalQAWithSourcesChain.from_chain_type(\n",
    "    llm=llm,\n",
    "    chain_type=\"stuff\",\n",
    "    retriever=vectordb.as_retriever(search_type = \"similarity\",\n",
    "                                     search_kwargs = {'k':2})\n",
    ")"
   ]
  },
  {
   "cell_type": "code",
   "execution_count": 36,
   "id": "17ebe7bf-39b8-4769-8552-b694ec94b249",
   "metadata": {},
   "outputs": [
    {
     "data": {
      "text/plain": [
       "{'question': 'What are some of the best offers provided by Northwind Health Plus?',\n",
       " 'answer': 'Some of the best offers provided by Northwind Health Plus include personal health support programs such as case management, disease management, and wellness programs. These programs offer support, information, and resources to help members stay healthy and manage their healthcare costs. Additionally, Northwind Health Plus offers coverage for medical, vision, and dental services, prescription drugs, mental health and substance abuse services, and preventive care. However, it is important to note that the availability of these programs and services may vary depending on the area and the specific plan. It is recommended to contact Northwind Health Plus directly or visit their website for more information on the coverage and benefits provided. \\n',\n",
       " 'sources': 'Northwind_Health_Plus_Benefits_Details.pdf/page=72, Northwind_Health_Plus_Benefits_Details.pdf/page=16'}"
      ]
     },
     "execution_count": 36,
     "metadata": {},
     "output_type": "execute_result"
    }
   ],
   "source": [
    "qa_with_sources(query)"
   ]
  },
  {
   "cell_type": "code",
   "execution_count": null,
   "id": "e49d4e2a-7717-4a1c-9b0b-a1da21ab165d",
   "metadata": {},
   "outputs": [],
   "source": []
  },
  {
   "cell_type": "markdown",
   "id": "4ebc9b77-2120-4901-b008-aca10ab99639",
   "metadata": {},
   "source": [
    "## ConversationalRetrieval Chain - Chat Bots"
   ]
  },
  {
   "cell_type": "markdown",
   "id": "0395e5cc-5ab4-47f2-a339-61485f3c261a",
   "metadata": {},
   "source": [
    "### Memory\n",
    "- ConversationalBufferMemory\n",
    "- ConversationalBufferWindowMemory\n",
    "- ConversationSummaryMemory\n",
    "- ConversationSummaryBufferMemory"
   ]
  },
  {
   "cell_type": "code",
   "execution_count": 25,
   "id": "943005e0-fea9-4c4a-ac6c-6cfcff330d23",
   "metadata": {},
   "outputs": [],
   "source": [
    "from langchain.chains import ConversationalRetrievalChain\n",
    "from langchain.memory import ConversationBufferMemory\n",
    "\n",
    "memory = ConversationBufferMemory(\n",
    "    memory_key=\"chat_history\",\n",
    "    return_messages=True\n",
    ")"
   ]
  },
  {
   "cell_type": "code",
   "execution_count": 38,
   "id": "8fb502c0-6763-4c87-b344-7051d6fe3213",
   "metadata": {},
   "outputs": [],
   "source": [
    "retriever = vectordb.as_retriever(search_type = \"similarity\",\n",
    "                                  search_kwargs = {'k':2})\n",
    "\n",
    "chat = ConversationalRetrievalChain.from_llm(\n",
    "    llm = llm,\n",
    "    retriever = retriever,\n",
    "    chain_type = \"stuff\",\n",
    "    memory = memory\n",
    ")"
   ]
  },
  {
   "cell_type": "code",
   "execution_count": 39,
   "id": "62976e1f-598b-437a-a4e1-6880fc11ff43",
   "metadata": {},
   "outputs": [],
   "source": [
    "query = \"What is Northwind Health Plus for?\"\n",
    "response = chat.run(query)"
   ]
  },
  {
   "cell_type": "code",
   "execution_count": 40,
   "id": "cf77956f-be4c-4945-b515-cd5c8e0e1a41",
   "metadata": {},
   "outputs": [
    {
     "name": "stdout",
     "output_type": "stream",
     "text": [
      "Northwind Health Plus is a comprehensive health plan that offers coverage for medical, vision, and dental services. It also provides coverage for prescription drugs, mental health and substance abuse services, and preventive care.\n"
     ]
    }
   ],
   "source": [
    "print(response)"
   ]
  },
  {
   "cell_type": "code",
   "execution_count": 53,
   "id": "d0d3b549-42e8-4db7-bf1f-af5e7060c28d",
   "metadata": {},
   "outputs": [
    {
     "data": {
      "text/plain": [
       "[HumanMessage(content='What is Northwind Health Plus for?', additional_kwargs={}, example=False),\n",
       " AIMessage(content='Northwind Health Plus is a comprehensive health plan that offers coverage for medical, vision, and dental services. It also provides coverage for prescription drugs, mental health and substance abuse services, and preventive care.', additional_kwargs={}, example=False)]"
      ]
     },
     "execution_count": 53,
     "metadata": {},
     "output_type": "execute_result"
    }
   ],
   "source": [
    "chat.memory.chat_memory.messages"
   ]
  },
  {
   "cell_type": "code",
   "execution_count": null,
   "id": "cda6330e-5ddb-4aa2-bf2f-e6a1cb94e55c",
   "metadata": {},
   "outputs": [],
   "source": []
  },
  {
   "cell_type": "code",
   "execution_count": 54,
   "id": "5b4db3ef-2dfb-4f92-921e-41d24ebfceb0",
   "metadata": {},
   "outputs": [],
   "source": [
    "query = \"what does it cover for dental services?\"\n",
    "response = chat.run(query)"
   ]
  },
  {
   "cell_type": "code",
   "execution_count": 55,
   "id": "67304f87-cd21-4afe-b273-abfbd5923489",
   "metadata": {},
   "outputs": [
    {
     "name": "stdout",
     "output_type": "stream",
     "text": [
      "Northwind Health Plus covers services related to the administration of anesthesia in a facility, including spinals, epidurals, and general anesthetics. However, it does not cover dental services such as cosmetic procedures (teeth whitening or veneers) or services that are not medically necessary to relieve pain resulting from dental injury. It also does not cover services provided outside of a facility.\n"
     ]
    }
   ],
   "source": [
    "print(response)"
   ]
  },
  {
   "cell_type": "code",
   "execution_count": 56,
   "id": "59dd2e87-babe-45bb-92ff-3bde885f92b2",
   "metadata": {},
   "outputs": [
    {
     "data": {
      "text/plain": [
       "[HumanMessage(content='What is Northwind Health Plus for?', additional_kwargs={}, example=False),\n",
       " AIMessage(content='Northwind Health Plus is a comprehensive health plan that offers coverage for medical, vision, and dental services. It also provides coverage for prescription drugs, mental health and substance abuse services, and preventive care.', additional_kwargs={}, example=False),\n",
       " HumanMessage(content='what does it cover for dental services?', additional_kwargs={}, example=False),\n",
       " AIMessage(content='Northwind Health Plus covers services related to the administration of anesthesia in a facility, including spinals, epidurals, and general anesthetics. However, it does not cover dental services such as cosmetic procedures (teeth whitening or veneers) or services that are not medically necessary to relieve pain resulting from dental injury. It also does not cover services provided outside of a facility.', additional_kwargs={}, example=False)]"
      ]
     },
     "execution_count": 56,
     "metadata": {},
     "output_type": "execute_result"
    }
   ],
   "source": [
    "chat.memory.chat_memory.messages"
   ]
  },
  {
   "cell_type": "code",
   "execution_count": null,
   "id": "948f2b45-354e-4b8d-9096-da96f4f71a76",
   "metadata": {},
   "outputs": [],
   "source": []
  },
  {
   "cell_type": "code",
   "execution_count": 57,
   "id": "023b31d8-3037-42a1-99b2-f127d8859646",
   "metadata": {},
   "outputs": [],
   "source": [
    "query = \"How expensive is the cost?\"\n",
    "response = chat.run(query)"
   ]
  },
  {
   "cell_type": "code",
   "execution_count": 58,
   "id": "df0463be-0c3b-44fc-b96c-62eb013b8fe0",
   "metadata": {},
   "outputs": [
    {
     "name": "stdout",
     "output_type": "stream",
     "text": [
      "The cost of Northwind Health Plus will depend on your plan type, the services you use, and the providers you visit. The specific costs, such as premiums, deductibles, and co-pays, can vary and may change from year to year. It is recommended to review your plan documents or visit the Northwind Health website for more information on cost-sharing arrangements.\n"
     ]
    }
   ],
   "source": [
    "print(response)"
   ]
  },
  {
   "cell_type": "code",
   "execution_count": 59,
   "id": "c9584af3-5963-4984-bba2-e96228129d8f",
   "metadata": {},
   "outputs": [
    {
     "data": {
      "text/plain": [
       "[HumanMessage(content='What is Northwind Health Plus for?', additional_kwargs={}, example=False),\n",
       " AIMessage(content='Northwind Health Plus is a comprehensive health plan that offers coverage for medical, vision, and dental services. It also provides coverage for prescription drugs, mental health and substance abuse services, and preventive care.', additional_kwargs={}, example=False),\n",
       " HumanMessage(content='what does it cover for dental services?', additional_kwargs={}, example=False),\n",
       " AIMessage(content='Northwind Health Plus covers services related to the administration of anesthesia in a facility, including spinals, epidurals, and general anesthetics. However, it does not cover dental services such as cosmetic procedures (teeth whitening or veneers) or services that are not medically necessary to relieve pain resulting from dental injury. It also does not cover services provided outside of a facility.', additional_kwargs={}, example=False),\n",
       " HumanMessage(content='How expensive is the cost?', additional_kwargs={}, example=False),\n",
       " AIMessage(content='The cost of Northwind Health Plus will depend on your plan type, the services you use, and the providers you visit. The specific costs, such as premiums, deductibles, and co-pays, can vary and may change from year to year. It is recommended to review your plan documents or visit the Northwind Health website for more information on cost-sharing arrangements.', additional_kwargs={}, example=False)]"
      ]
     },
     "execution_count": 59,
     "metadata": {},
     "output_type": "execute_result"
    }
   ],
   "source": [
    "chat.memory.chat_memory.messages"
   ]
  },
  {
   "cell_type": "code",
   "execution_count": null,
   "id": "e4554b9d-abc5-438a-ab6c-2a09297d4726",
   "metadata": {},
   "outputs": [],
   "source": []
  },
  {
   "cell_type": "code",
   "execution_count": 37,
   "id": "ec0f218a-0980-48af-aa19-2e9e3599c106",
   "metadata": {},
   "outputs": [
    {
     "name": "stdout",
     "output_type": "stream",
     "text": [
      "0.0.265\n"
     ]
    }
   ],
   "source": [
    "import langchain\n",
    "print(langchain.__version__)"
   ]
  },
  {
   "cell_type": "code",
   "execution_count": 38,
   "id": "ef035435-a7aa-4719-a3a2-0a44a2e59b21",
   "metadata": {},
   "outputs": [
    {
     "name": "stdout",
     "output_type": "stream",
     "text": [
      "0.27.8\n"
     ]
    }
   ],
   "source": [
    "import openai\n",
    "print(openai.__version__)"
   ]
  },
  {
   "cell_type": "code",
   "execution_count": null,
   "id": "bbeaf31b-c5d9-4ccb-8a87-ba418b0bf8db",
   "metadata": {},
   "outputs": [],
   "source": []
  }
 ],
 "metadata": {
  "kernelspec": {
   "display_name": "Python 3 (ipykernel)",
   "language": "python",
   "name": "python3"
  },
  "language_info": {
   "codemirror_mode": {
    "name": "ipython",
    "version": 3
   },
   "file_extension": ".py",
   "mimetype": "text/x-python",
   "name": "python",
   "nbconvert_exporter": "python",
   "pygments_lexer": "ipython3",
   "version": "3.11.4"
  }
 },
 "nbformat": 4,
 "nbformat_minor": 5
}
